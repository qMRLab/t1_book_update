{
 "cells": [
  {
   "cell_type": "markdown",
   "metadata": {
    "kernel": "SoS"
   },
   "source": [
    "## Benefits and Pitfalls\n",
    "\n",
    "<p style=\"text-align:justify;\">\n",
    "It has been well reported in recent years that the accuracy of VFA T<sub>1</sub> estimates is very sensitive to pulse sequence implementations (Stikov et al. 2015; Lutti & Weiskopf 2013; Baudrexel et al. 2018), and as such is less robust than the gold standard inversion recovery technique. In particular, the signal bias resulting from insufficient spoiling can result in inaccurate T<sub>1</sub> estimates of up to 30% relative to inversion recovery estimated values (Stikov et al. 2015). VFA T<sub>1</sub> map accuracy and precision is also strongly dependent on the quality of the measured B<sub>1</sub> map (Lee et al. 2017), which can vary substantially between implementations (Boudreau et al. 2017). Modern rapid B<sub>1</sub> mapping pulse sequences are not as widely available as VFA, resulting in some groups attempting alternative ways of removing the bias from the T<sub>1</sub> maps like generating an artificial B<sub>1</sub> map through the use of image processing techniques (Liberman et al. 2014) or omitting B<sub>1</sub> correction altogether (Yuan et al. 2012). The latter is not recommended, because most MRI scanners have default pulse sequences that, with careful protocol settings, can provide B<sub>1</sub> maps of sufficient quality very rapidly (Boudreau et al. 2017; Wang et al. 2005; Samson et al. 2006).\n",
    "</p>\n",
    "\n",
    "<p style=\"text-align:justify;\">\n",
    "Despite some drawbacks, VFA is still one of the most widely used T<sub>1</sub> mapping methods in research. Its rapid acquisition time, rapid image processing time, and widespread availability makes it a great candidate for use in other quantitative imaging acquisition protocols like quantitative magnetization transfer imaging (Yarnykh 2002; Cercignani et al. 2005) and dynamic contrast enhanced imaging (Sung et al. 2013; Li et al. 2018).\n",
    "</p>\n"
   ]
  },
  {
   "cell_type": "code",
   "execution_count": null,
   "metadata": {
    "kernel": "SoS"
   },
   "outputs": [],
   "source": []
  }
 ],
 "metadata": {
  "kernelspec": {
   "display_name": "SoS",
   "language": "sos",
   "name": "sos"
  },
  "language_info": {
   "codemirror_mode": "sos",
   "file_extension": ".sos",
   "mimetype": "text/x-sos",
   "name": "sos",
   "nbconvert_exporter": "sos_notebook.converter.SoS_Exporter",
   "pygments_lexer": "sos"
  },
  "sos": {
   "kernels": [
    [
     "SoS",
     "sos",
     "",
     ""
    ]
   ],
   "version": "0.17.2"
  }
 },
 "nbformat": 4,
 "nbformat_minor": 2
}
