{
 "cells": [
  {
   "cell_type": "markdown",
   "metadata": {
    "kernel": "SoS"
   },
   "source": [
    "## References\n",
    "\n",
    "\n"
   ]
  },
  {
   "cell_type": "markdown",
   "metadata": {
    "kernel": "SoS"
   },
   "source": [
    "\n",
    "<p style=\"text-align:justify;\">\n",
    "Drain LE (1949) A Direct Method of Measuring Nuclear Spin-Lattice Relaxation Times. <i>Proceedings of the Physical Society. Section A</i> 62(5): 301–306.\n",
    "</p>\n",
    "\n",
    "<p style=\"text-align:justify;\">\n",
    "Fukushima, E. & Roeder, S., 1981. <i>Experimental Pulse NMR. A Nuts and Bolts Approach</i>, Reading, Massachusetts : Addison-Wesley Publ. Comp., Inc.\n",
    "</p>\n",
    "\n",
    "<p style=\"text-align:justify;\">\n",
    "Gai, N.D. et al., 2013. Modified Look-Locker T<sub>1</sub> evaluation using Bloch simulations: human and phantom validation. <i>Magn. Reson. Med.</i>, 69(2), pp.329–336.\n",
    "</p>\n",
    "\n",
    "<p style=\"text-align:justify;\">\n",
    "Hahn, E.L., 1949. An Accurate Nuclear Magnetic Resonance Method for Measuring Spin-Lattice Relaxation Times. <i>Physics Review</i>, 76(1), pp.145–146.\n",
    "</p>\n",
    "\n",
    "<p style=\"text-align:justify;\">\n",
    "Look, D.C. & Locker, D.R., 1970. Time Saving in Measurement of NMR and EPR Relaxation Times. <i>The Review of scientific instruments</i>, 41(2), pp.250–251.\n",
    "</p>\n",
    "\n",
    "<p style=\"text-align:justify;\">\n",
    "Messroghli, D.R. et al., 2004. Modified Look-Locker inversion recovery (MOLLI) for high-resolution T<sub>1</sub> mapping of the heart. <i>Magn. Reson. Med.</i>, 52(1), pp.141–146.\n",
    "</p>\n",
    "\n",
    "<p style=\"text-align:justify;\">\n",
    "Piechnik, S.K. et al., 2010. Shortened Modified Look-Locker Inversion recovery (ShMOLLI) for clinical myocardial T<sub>1</sub>-mapping at 1.5 and 3 T within a 9 heartbeat breathhold. <i>J. Cardiovasc. Magn. Reson.</i>, 12, p.69.\n",
    "</p>\n",
    "\n",
    "<p style=\"text-align:justify;\">\n",
    "Pykett, I.L. et al., 1983. Measurement of spin-lattice relaxation times in nuclear magnetic resonance imaging. <i>Physics in medicine and biology</i>, 28(6), pp.723–729.\n",
    "</p>\n",
    "\n",
    "<p style=\"text-align:justify;\">\n",
    "Pykett, I.L. & Mansfield, P., 1978. A line scan image study of a tumorous rat leg by NMR. <i>Physics in medicine and biology</i>, 23(5), pp.961–967.\n",
    "</p>\n",
    "\n",
    "<p style=\"text-align:justify;\">\n",
    "Steen, R.G. et al., 1994. Precise and accurate measurement of proton T<sub>1</sub> in human brain in vivo: validation and preliminary clinical application. <i>J. Magn. Reson. Imaging</i>, 4(5), pp.681–691.\n",
    "</p>\n",
    "\n",
    "<p style=\"text-align:justify;\">\n",
    "Stikov, N. et al., 2015. On the accuracy of T<sub>1</sub> mapping: Searching for common ground. <i>Magn. Reson. Med.</i>, 73(2), pp.514–522.\n",
    "</p>"
   ]
  },
  {
   "cell_type": "markdown",
   "metadata": {
    "kernel": "SoS"
   },
   "source": []
  }
 ],
 "metadata": {
  "kernelspec": {
   "display_name": "SoS",
   "language": "sos",
   "name": "sos"
  },
  "language_info": {
   "codemirror_mode": "sos",
   "file_extension": ".sos",
   "mimetype": "text/x-sos",
   "name": "sos",
   "nbconvert_exporter": "sos_notebook.converter.SoS_Exporter",
   "pygments_lexer": "sos"
  },
  "sos": {
   "kernels": [
    [
     "SoS",
     "sos",
     "",
     ""
    ]
   ],
   "version": "0.17.2"
  }
 },
 "nbformat": 4,
 "nbformat_minor": 2
}
